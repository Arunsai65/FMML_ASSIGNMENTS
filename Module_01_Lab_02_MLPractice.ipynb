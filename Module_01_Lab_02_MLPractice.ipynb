{
  "nbformat": 4,
  "nbformat_minor": 0,
  "metadata": {
    "colab": {
      "provenance": [],
      "include_colab_link": true
    },
    "kernelspec": {
      "name": "python3",
      "display_name": "Python 3"
    },
    "language_info": {
      "name": "python"
    }
  },
  "cells": [
    {
      "cell_type": "markdown",
      "metadata": {
        "id": "view-in-github",
        "colab_type": "text"
      },
      "source": [
        "<a href=\"https://colab.research.google.com/github/Arunsai65/FMML_ASSIGNMENTS/blob/main/Module_01_Lab_02_MLPractice.ipynb\" target=\"_parent\"><img src=\"https://colab.research.google.com/assets/colab-badge.svg\" alt=\"Open In Colab\"/></a>"
      ]
    },
    {
      "cell_type": "markdown",
      "metadata": {
        "id": "3Eu9VZbF01eq"
      },
      "source": [
        "# Machine learning terms and metrics\n",
        "\n",
        "FMML Module 1, Lab 2<br>\n",
        "\n",
        "\n",
        " In this lab, we will show a part of the ML pipeline by extracting features, training and testing"
      ]
    },
    {
      "cell_type": "code",
      "metadata": {
        "id": "8qBvyEem0vLi"
      },
      "source": [
        "import matplotlib.pyplot as plt\n",
        "import numpy as np\n",
        "from sklearn import datasets\n",
        "# set randomseed\n",
        "rng = np.random.default_rng(seed=42)"
      ],
      "execution_count": null,
      "outputs": []
    },
    {
      "cell_type": "markdown",
      "metadata": {
        "id": "u3t59g5s1HfC"
      },
      "source": [
        "In this lab, we will use the California Housing dataset. There are 20640 samples, each with 8 attributes like income of the block, age of the houses per district etc. The task is to predict the cost of the houses per district.\n",
        "\n",
        "Let us download and examine the dataset."
      ]
    },
    {
      "cell_type": "code",
      "metadata": {
        "id": "8LpqjN991GGJ",
        "colab": {
          "base_uri": "https://localhost:8080/"
        },
        "outputId": "9afe1734-6e19-4905-9e63-aa5117d87ce0"
      },
      "source": [
        " dataset =  datasets.fetch_california_housing()\n",
        " # print(dataset.DESCR)  # uncomment this if you want to know more about this dataset\n",
        " # print(dataset.keys())  # if you want to know what else is there in this dataset\n",
        " dataset.target = dataset.target.astype(np.int) # so that we can classify\n",
        " print(dataset.data.shape)\n",
        " print(dataset.target.shape)"
      ],
      "execution_count": null,
      "outputs": [
        {
          "output_type": "stream",
          "name": "stdout",
          "text": [
            "(20640, 8)\n",
            "(20640,)\n"
          ]
        },
        {
          "output_type": "stream",
          "name": "stderr",
          "text": [
            "<ipython-input-16-60ae2e9a125e>:4: DeprecationWarning: `np.int` is a deprecated alias for the builtin `int`. To silence this warning, use `int` by itself. Doing this will not modify any behavior and is safe. When replacing `np.int`, you may wish to use e.g. `np.int64` or `np.int32` to specify the precision. If you wish to review your current use, check the release note link for additional information.\n",
            "Deprecated in NumPy 1.20; for more details and guidance: https://numpy.org/devdocs/release/1.20.0-notes.html#deprecations\n",
            "  dataset.target = dataset.target.astype(np.int) # so that we can classify\n"
          ]
        }
      ]
    },
    {
      "cell_type": "markdown",
      "metadata": {
        "id": "iNx4174W5xRg"
      },
      "source": [
        "Here is a function for calculating the 1-nearest neighbours"
      ]
    },
    {
      "cell_type": "code",
      "metadata": {
        "id": "07zpydQj1hIQ"
      },
      "source": [
        "def NN1(traindata, trainlabel, query):\n",
        "  diff  = traindata - query  # find the difference between features. Numpy automatically takes care of the size here\n",
        "  sq = diff*diff # square the differences\n",
        "  dist = sq.sum(1) # add up the squares\n",
        "  label = trainlabel[np.argmin(dist)] # our predicted label is the label of the training data which has the least distance from the query\n",
        "  return label\n",
        "\n",
        "def NN(traindata, trainlabel, testdata):\n",
        "  # we will run nearest neighbour for each sample in the test data\n",
        "  # and collect the predicted classes in an array using list comprehension\n",
        "  predlabel = np.array([NN1(traindata, trainlabel, i) for i in testdata])\n",
        "  return predlabel"
      ],
      "execution_count": null,
      "outputs": []
    },
    {
      "cell_type": "markdown",
      "metadata": {
        "id": "03JktkfIGaje"
      },
      "source": [
        "We will also define a 'random classifier', which randomly allots labels to each sample"
      ]
    },
    {
      "cell_type": "code",
      "metadata": {
        "id": "fogWAtjyGhAH"
      },
      "source": [
        "def RandomClassifier(traindata, trainlabel, testdata):\n",
        "  # in reality, we don't need these arguments\n",
        "\n",
        "  classes = np.unique(trainlabel)\n",
        "  rints = rng.integers(low=0, high=len(classes), size=len(testdata))\n",
        "  predlabel = classes[rints]\n",
        "  return predlabel"
      ],
      "execution_count": null,
      "outputs": []
    },
    {
      "cell_type": "markdown",
      "metadata": {
        "id": "1Hjf1KHs7fU5"
      },
      "source": [
        "Let us define a metric 'Accuracy' to see how good our learning algorithm is. Accuracy is the ratio of the number of correctly classified samples to the total number of samples. The higher the accuracy, the better the algorithm."
      ]
    },
    {
      "cell_type": "code",
      "metadata": {
        "id": "ouuCqWU07bz-"
      },
      "source": [
        "def Accuracy(gtlabel, predlabel):\n",
        "  assert len(gtlabel)==len(predlabel), \"Length of the groundtruth labels and predicted labels should be the same\"\n",
        "  correct = (gtlabel==predlabel).sum() # count the number of times the groundtruth label is equal to the predicted label.\n",
        "  return correct/len(gtlabel)"
      ],
      "execution_count": null,
      "outputs": []
    },
    {
      "cell_type": "markdown",
      "metadata": {
        "id": "4vJFwBFa9Klw"
      },
      "source": [
        "Let us make a function to split the dataset with the desired probability."
      ]
    },
    {
      "cell_type": "code",
      "metadata": {
        "id": "Ko0VzpSM2Tdi"
      },
      "source": [
        "def split(data, label, percent):\n",
        "  # generate a random number for each sample\n",
        "  rnd = rng.random(len(label))\n",
        "  split1 = rnd<percent\n",
        "  split2 = rnd>=percent\n",
        "  split1data = data[split1,:]\n",
        "  split1label = label[split1]\n",
        "  split2data = data[split2,:]\n",
        "  split2label = label[split2]\n",
        "  return split1data, split1label, split2data, split2label"
      ],
      "execution_count": null,
      "outputs": []
    },
    {
      "cell_type": "markdown",
      "metadata": {
        "id": "AcK3LEAJ_LGC"
      },
      "source": [
        "We will reserve 20% of our dataset as the test set. We will not change this portion throughout our experiments"
      ]
    },
    {
      "cell_type": "code",
      "metadata": {
        "id": "bBZkHBLJ1iU-",
        "colab": {
          "base_uri": "https://localhost:8080/"
        },
        "outputId": "0e788c61-3f39-47ae-90cc-9dd542562874"
      },
      "source": [
        "testdata, testlabel, alltraindata, alltrainlabel = split(dataset.data, dataset.target, 20/100)\n",
        "print('Number of test samples = ', len(testlabel))\n",
        "print('Number of other samples = ', len(alltrainlabel))\n",
        "print('Percent of test data = ', len(testlabel)*100/len(dataset.target),'%')"
      ],
      "execution_count": null,
      "outputs": [
        {
          "output_type": "stream",
          "name": "stdout",
          "text": [
            "Number of test samples =  4144\n",
            "Number of other samples =  16496\n",
            "Percent of test data =  20.07751937984496 %\n"
          ]
        }
      ]
    },
    {
      "cell_type": "markdown",
      "metadata": {
        "id": "a6Ss0Z6IAGNV"
      },
      "source": [
        "## Experiments with splits\n",
        "\n",
        "Let us reserve some of our train data as a validation set"
      ]
    },
    {
      "cell_type": "code",
      "metadata": {
        "id": "WFew2iry_7W7"
      },
      "source": [
        "traindata, trainlabel, valdata, vallabel = split(alltraindata, alltrainlabel, 75/100)"
      ],
      "execution_count": null,
      "outputs": []
    },
    {
      "cell_type": "markdown",
      "metadata": {
        "id": "60hiu4clFN1i"
      },
      "source": [
        "What is the accuracy of our classifiers on the train dataset?"
      ]
    },
    {
      "cell_type": "code",
      "metadata": {
        "id": "DBlZDTHUFTZx"
      },
      "source": [
        "trainpred = NN(traindata, trainlabel, traindata)\n",
        "trainAccuracy = Accuracy(trainlabel, trainpred)\n",
        "print(\"Train accuracy using nearest neighbour is \", trainAccuracy)\n",
        "\n",
        "trainpred = RandomClassifier(traindata, trainlabel, traindata)\n",
        "trainAccuracy = Accuracy(trainlabel, trainpred)\n",
        "print(\"Train accuracy using random classifier is \", trainAccuracy)"
      ],
      "execution_count": null,
      "outputs": []
    },
    {
      "cell_type": "markdown",
      "metadata": {
        "id": "7h08-9gJDtSy"
      },
      "source": [
        "For nearest neighbour, the train accuracy is always 1. The accuracy of the random classifier is close to 1/(number of classes) which is 0.1666 in our case.\n",
        "\n",
        "Let us predict the labels for our validation set and get the accuracy"
      ]
    },
    {
      "cell_type": "code",
      "metadata": {
        "id": "4h7bXoW_2H3v"
      },
      "source": [
        "valpred = NN(traindata, trainlabel, valdata)\n",
        "valAccuracy = Accuracy(vallabel, valpred)\n",
        "print(\"Validation accuracy using nearest neighbour is \", valAccuracy)\n",
        "\n",
        "valpred = RandomClassifier(traindata, trainlabel, valdata)\n",
        "valAccuracy = Accuracy(vallabel, valpred)\n",
        "print(\"Validation accuracy using random classifier is \", valAccuracy)"
      ],
      "execution_count": null,
      "outputs": []
    },
    {
      "cell_type": "markdown",
      "metadata": {
        "id": "py9bLguFEjfg"
      },
      "source": [
        "Validation accuracy of nearest neighbour is considerably less than its train accuracy while the validation accuracy of random classifier is the same. However, the validation accuracy of nearest neighbour is twice that of the random classifier.\n",
        "\n",
        "Now let us try another random split and check the validation accuracy"
      ]
    },
    {
      "cell_type": "code",
      "metadata": {
        "id": "ujm3cyYzEntE"
      },
      "source": [
        "traindata, trainlabel, valdata, vallabel = split(alltraindata, alltrainlabel, 75/100)\n",
        "valpred = NN(traindata, trainlabel, valdata)\n",
        "valAccuracy = Accuracy(vallabel, valpred)\n",
        "print(\"Validation accuracy of nearest neighbour is \", valAccuracy)"
      ],
      "execution_count": null,
      "outputs": []
    },
    {
      "cell_type": "markdown",
      "metadata": {
        "id": "oSOx7U83EKie"
      },
      "source": [
        "You can run the above cell multiple times to try with different random splits.\n",
        "We notice that the accuracy is different for each run, but close together.\n",
        "\n",
        "Now let us compare it with the accuracy we get on the test dataset."
      ]
    },
    {
      "cell_type": "code",
      "metadata": {
        "id": "PNEZ5ToYBEDW"
      },
      "source": [
        "testpred = NN(alltraindata, alltrainlabel, testdata)\n",
        "testAccuracy = Accuracy(testlabel, testpred)\n",
        "print('Test accuracy is ', testAccuracy)"
      ],
      "execution_count": null,
      "outputs": []
    },
    {
      "cell_type": "markdown",
      "metadata": {
        "id": "w3dGD531K3gH"
      },
      "source": [
        "### Try it out for yourself and answer:\n",
        "1. How is the accuracy of the validation set affected if we increase the percentage of validation set? What happens when we reduce it?\n",
        "2. How does the size of the train and validation set affect how well we can predict the accuracy on the test set using the validation set?\n",
        "3. What do you think is a good percentage to reserve for the validation set so that thest two factors are balanced?\n",
        "\n",
        "Answer for both nearest neighbour and random classifier. You can note down the values for your experiments and plot a graph using  <a href=https://matplotlib.org/stable/gallery/lines_bars_and_markers/step_demo.html#sphx-glr-gallery-lines-bars-and-markers-step-demo-py>plt.plot<href>. Check also for extreme values for splits, like 99.9% or 0.1%"
      ]
    },
    {
      "cell_type": "markdown",
      "source": [
        "1)* In machine learning, the size of the validation set plays a crucial role in assessing the performance of a model during training and in preventing overfitting. The validation set is used to estimate how well a model generalizes to unseen data, and its size can have different effects on the accuracy and performance metrics of the model. Let's explore how changing the percentage of the validation set affects the model's accuracy and behavior:\n",
        "\n",
        "Increasing the Percentage of Validation Set:\n",
        "\n",
        "Pros:\n",
        "As you allocate more data to the validation set, you get a better estimate of the model's generalization performance because the validation set is representative of a larger portion of your dataset.\n",
        "It helps in detecting overfitting early since the model has less training data to memorize.\n",
        "Cons:\n",
        "You have less data available for training, which might lead to slower model convergence or less accurate model parameters.\n",
        "If the validation set becomes too large, you might not have enough data for effective model training, and the model might underfit.\n",
        "The accuracy on the validation set is likely to be a more reliable estimate of the model's generalization performance as you increase the size of the validation set. However, the training performance (accuracy on the training set) may decrease as more data is moved to the validation set.\n",
        "\n",
        "Reducing the Percentage of Validation Set:\n",
        "\n",
        "Pros:\n",
        "You have more data available for training, which can lead to better model parameter estimation and potentially higher training performance.\n",
        "The model may converge faster during training.\n",
        "Cons:\n",
        "A smaller validation set may lead to a less reliable estimate of the model's generalization performance, as it might not be representative of the entire dataset.\n",
        "Overfitting may be less apparent, as the model has more data to memorize.\n",
        "With a smaller validation set, the accuracy on the validation set may be a less reliable indicator of generalization performance. The model's training performance is likely to be higher due to having more training data.\n",
        "\n",
        "In practice, the size of the validation set is often determined empirically through techniques like cross-validation. Cross-validation involves splitting the dataset into multiple folds and training/validating the model on different subsets to get a more robust estimate of its performance. This can help mitigate the impact of the validation set size on model assessment.\n",
        "\n",
        "*2)* The size of the training and validation sets can significantly affect how well you can predict the accuracy on the test set using the validation set. In machine learning, this is often referred to as the reliability of the validation set as a proxy for test set performance. Here's how the sizes of these sets can impact this prediction:\n",
        "\n",
        "Larger Training Set:\n",
        "\n",
        "When you allocate a larger portion of your data to the training set, the model has more data to learn from. This typically leads to better model parameter estimation and can result in a model that is more representative of the underlying data distribution.\n",
        "With a larger training set, the model is more likely to generalize well to unseen data, assuming it is not overfitting.\n",
        "As a result, the validation set's performance (e.g., accuracy) tends to be a better predictor of the test set performance. If the model performs well on a large validation set, it's more likely to perform well on the test set.\n",
        "Larger Validation Set:\n",
        "\n",
        "A larger validation set can provide a more reliable estimate of the model's generalization performance because it's based on a larger sample of the data. This means that the validation set's performance is a better reflection of how the model is likely to perform on unseen data.\n",
        "However, if you allocate too much data to the validation set, the training set becomes smaller, which can lead to slower convergence and potentially less accurate model parameters.\n",
        "Despite a larger validation set, it's still essential to ensure that the training set is representative and provides sufficient data for the model to learn effectively.\n",
        "Balanced Split:\n",
        "\n",
        "A balanced split between the training and validation sets strikes a compromise between having enough data for training and a representative subset for validation.\n",
        "This balance ensures that the model has a good chance of learning the underlying patterns in the data while still getting a reliable estimate of its generalization performance.\n",
        "The performance on the validation set in a balanced split is a reasonably good indicator of the model's performance on the test set.\n",
        "the sizes of the training and validation sets are interrelated, and their relative sizes can affect how well you can predict the accuracy on the test set using the validation set. A well-chosen balance that considers the complexity of your model, the size of your dataset, and the need for reliable estimates of generalization performance is crucial. Cross-validation techniques can also be useful to mitigate the impact of a specific data split on model assessment by repeatedly splitting the data into different training and validation sets.\n",
        "\n",
        "*3)* The choice of the percentage to reserve for the validation set in a machine learning task is not one-size-fits-all and depends on several factors, including the size of your dataset, the complexity of your model, and the available computational resources. However, there are some common practices and guidelines to consider when determining the validation set size:\n",
        "\n",
        "Rule of Thumb: 70/30 or 80/20 Split:\n",
        "\n",
        "A common starting point is to use a 70/30 or 80/20 split for training and validation, respectively. This means you reserve 70% or 80% of your data for training and the remaining 30% or 20% for validation.\n",
        "This split is a good starting point for moderate-sized datasets and models of moderate complexity. It allows the model to learn from a substantial portion of the data while still providing a reasonably large validation set for performance estimation.\n",
        "Cross-Validation:\n",
        "\n",
        "Cross-validation techniques, such as k-fold cross-validation, can be used to get a more robust estimate of model performance. Instead of a fixed validation set size, you partition your data into k subsets (folds), train and validate the model k times, and then average the performance scores.\n",
        "Cross-validation can help mitigate the impact of a specific data split on model assessment and provides a more reliable estimate of generalization performance.\n",
        "Data Size Considerations:\n",
        "\n",
        "If you have a very large dataset, you can afford to allocate a smaller percentage for the validation set since you still have a substantial amount of data for training.\n",
        "Conversely, if you have a very small dataset, you might need to allocate a larger percentage for validation to ensure you have enough data to assess performance reliably.\n",
        "Model Complexity:\n",
        "\n",
        "More complex models, which are prone to overfitting, may benefit from larger validation sets to detect overfitting early. In such cases, you might consider a larger percentage for validation.\n",
        "Resource Constraints:\n",
        "\n",
        "Consider your available computational resources. Smaller validation sets result in faster training times, which can be crucial when you have limited resources.\n",
        "Plotting Learning Curves:\n",
        "\n",
        "Plot learning curves that show the model's performance on both the training and validation sets as you increase the validation set size or vary the training/validation split ratio.\n",
        "Observe how the performance changes with different split ratios and choose the one that provides a good balance between training and validation sizes while maintaining reliable performance estimates.\n",
        "In practice, it's often a good idea to experiment with different validation set sizes and use cross-validation to determine the optimal split for your specific problem and dataset. Keep in mind that the goal is to achieve a balance where the model can learn effectively while still providing a reliable estimate of its generalization performance on unseen data."
      ],
      "metadata": {
        "id": "EcfcG13Po6Et"
      }
    },
    {
      "cell_type": "markdown",
      "metadata": {
        "id": "PnYvkAZLQY7h"
      },
      "source": [
        "## Multiple Splits\n",
        "\n",
        "One way to get more accurate estimates for the test accuracy is by using <b>crossvalidation</b>. Here, we will try a simple version, where we do multiple train/val splits and take the average of validation accuracies as the test accuracy estimation. Here is a function for doing this. Note that this function will take a long time to execute."
      ]
    },
    {
      "cell_type": "code",
      "metadata": {
        "id": "E4nGCUQXBTzo"
      },
      "source": [
        "# you can use this function for random classifier also\n",
        "def AverageAccuracy(alldata, alllabel, splitpercent, iterations, classifier=NN):\n",
        "  accuracy = 0\n",
        "  for ii in range(iterations):\n",
        "    traindata, trainlabel, valdata, vallabel = split(alldata, alllabel, splitpercent)\n",
        "    valpred = classifier(traindata, trainlabel, valdata)\n",
        "    accuracy += Accuracy(vallabel, valpred)\n",
        "  return accuracy/iterations # average of all accuracies"
      ],
      "execution_count": null,
      "outputs": []
    },
    {
      "cell_type": "code",
      "metadata": {
        "id": "H3qtNar7Bbik"
      },
      "source": [
        "print('Average validation accuracy is ', AverageAccuracy(alltraindata, alltrainlabel, 75/100, 10, classifier=NN))\n",
        "testpred = NN(alltraindata, alltrainlabel, testdata)\n",
        "print('test accuracy is ',Accuracy(testlabel, testpred) )"
      ],
      "execution_count": null,
      "outputs": []
    },
    {
      "cell_type": "markdown",
      "metadata": {
        "id": "33GIn4x5VH-d"
      },
      "source": [
        "This is a very simple way of doing cross-validation. There are many well-known algorithms for cross-validation, like k-fold cross-validation, leave-one-out etc. This will be covered in detail in a later module. For more information about cross-validation, check <a href=https://en.wikipedia.org/wiki/Cross-validation_(statistics)>Cross-validatioin (Wikipedia)</a>\n",
        "\n",
        "### Questions\n",
        "1. Does averaging the validation accuracy across multiple splits give more consistent results?\n",
        "2. Does it give more accurate estimate of test accuracy?\n",
        "3. What is the effect of the number of iterations on the estimate? Do we get a better estimate with higher iterations?\n",
        "4. Consider the results you got for the previous questions. Can we deal with a very small train dataset or validation dataset by increasing the iterations?\n"
      ]
    },
    {
      "cell_type": "markdown",
      "source": [
        "*ANSWER 1*\n",
        "\n",
        "Yes, averaging validation accuracy across multiple splits can give more consistent results. Averaging the results across these iterations helps to reduce the impact of randomness in the data split and provides a more stable estimate of your model's performance.\n",
        "\n",
        "*ANSWER 2*\n",
        "\n",
        "Cross-validation, including averaging validation accuracy across multiple splits, provides a more accurate estimate of how well your model is likely to perform on unseen data compared to a single validation split.\n",
        "\n",
        "*ANSWER 3*\n",
        "\n",
        "The number of iterations (folds) in cross-validation can impact the estimate of your model's performance. In general, increasing the number of iterations can lead to a more reliable estimate, especially if your dataset is small.\n",
        "\n",
        "*ANSWER 4*\n",
        "\n",
        "Increasing the number of iterations in cross-validation can help when dealing with small datasets. It allows you to use your limited data more effectively by repeatedly splitting it into training and validation sets. However, there are limits to how much this can compensate for a very small dataset. If your dataset is extremely small, you might still face challenges related to overfitting or underfitting, and more data collection or data augmentation techniques may be necessary to improve model performance."
      ],
      "metadata": {
        "id": "-jMMcE5qo8TZ"
      }
    }
  ]
}